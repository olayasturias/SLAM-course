{
 "cells": [
  {
   "cell_type": "markdown",
   "metadata": {
    "id": "Kg9-ig_ejMIH"
   },
   "source": [
    "# The Unscented Kalman Filter\n",
    "\n",
    "After studying the Unscented transform in the previous notebook, now is time to apply it to the Kalman Filter for localization."
   ]
  },
  {
   "cell_type": "code",
   "execution_count": 1,
   "metadata": {
    "id": "YHLw79CrrFK-"
   },
   "outputs": [],
   "source": [
    "import pandas as pd\n",
    "import scipy\n",
    "import matplotlib.pyplot as plt\n",
    "from matplotlib.patches import Ellipse\n",
    "from celluloid import Camera\n",
    "from IPython.display import HTML\n",
    "import numpy as np\n",
    "import os\n",
    "import math\n",
    "import seaborn as sns\n",
    "from matplotlib import cm\n",
    "from mpl_toolkits.mplot3d import Axes3D\n",
    "plt.rcParams[\"figure.figsize\"] = (20,20)\n",
    "from scipy.stats import multivariate_normal\n",
    "from scipy import stats\n",
    "\n",
    "%matplotlib inline"
   ]
  },
  {
   "cell_type": "code",
   "execution_count": 2,
   "metadata": {
    "id": "JIGCDX5h8GrK"
   },
   "outputs": [],
   "source": [
    "def normalize_angle(phi):\n",
    "    # Normalize phi to be between -pi and pi\n",
    "    while(phi>np.pi):\n",
    "        phi -= 2*np.pi;\n",
    "\n",
    "\n",
    "    while(phi<-np.pi):\n",
    "        phi += 2*np.pi\n",
    "\n",
    "    phiNorm = phi\n",
    "\n",
    "    return phiNorm"
   ]
  },
  {
   "cell_type": "markdown",
   "metadata": {
    "id": "WYxwMgs8mvVH"
   },
   "source": [
    "# The unscented functions\n",
    "These functions are explained in my previous notebook about the unscented transform, and thus here I will just directly write the code."
   ]
  },
  {
   "cell_type": "code",
   "execution_count": 3,
   "metadata": {
    "id": "HSRL0H2jmvhG"
   },
   "outputs": [],
   "source": [
    "def compute_sigma_points( mu, sigma, lmbda, alpha, beta):\n",
    "    n = mu.shape[0]\n",
    "    # initialize sigma points\n",
    "    sigma_points = np.zeros((n,2*n+1))+mu # matrix product this way is element-wise\n",
    "    # compute square root matrix\n",
    "    sqrm = np.sqrt((n+lmbda)*sigma)\n",
    "    for i in range (1,n+1):\n",
    "        sigma_points[:,i]+= sqrm[:,i-1]\n",
    "    for i in range(n+1,2*n+1):\n",
    "        sigma_points[:,i]-= sqrm[:,i-n-1]\n",
    "  \n",
    "    # compute the weights\n",
    "    wc = np.ones((1,2*n+1))*lmbda/(n+lmbda)\n",
    "    wc[0][1:] *= (1/(2*lmbda))\n",
    "    wm = wc.copy()\n",
    "    wc[0][0] += 1-alpha**2+beta\n",
    "\n",
    "    return sigma_points,wm,wc"
   ]
  },
  {
   "cell_type": "markdown",
   "metadata": {
    "id": "E93i2cT8_9Qu"
   },
   "source": [
    "When recovering the Gaussian, we must be careful with averagin the angles. To average the angles ${\\theta_1,...,\\theta_N}$ given their weights  ${w_1,...,w_N}$ , we can first compute the weighted sum of the unit vectors of each rotation as\n",
    "\n",
    "\\begin{equation}\n",
    "\\overline{x} = \\sum_{i=1}^N w_i cos(\\theta_i) \\text{,     } \\overline{y} = \\sum_{i=1}^N w_i sin(\\theta_i)\n",
    "\\end{equation}\n",
    "\n",
    "Then the average angle $\\overline{\\theta}$ is given by\n",
    "\n",
    "\\begin{equation}\n",
    "\\overline{\\theta} = atan2(\\overline{x} ,\\overline{y})\n",
    "\\end{equation}\n"
   ]
  },
  {
   "cell_type": "code",
   "execution_count": 4,
   "metadata": {
    "id": "yjt_AEHPnVLs"
   },
   "outputs": [],
   "source": [
    "def recover_gaussian(sigmas,wm,wc):\n",
    "    n = sigmas.shape[0]\n",
    "    # initialize mean and covariance\n",
    "    #mu = np.zeros((n,1))\n",
    "    newsigma = np.zeros((n,n))\n",
    "\n",
    "    # Compute mean and covar of the resulting distribution given the transformed\n",
    "    # sigma points and corresponding weights\n",
    "    mu = np.sum(sigmas*wm, axis = 1,keepdims = True)\n",
    "\n",
    "    # The set of angles need to be averaged according to the given weights\n",
    "    xavg = 0.0\n",
    "    yavg = 0.0\n",
    "    for i in range(2*n+1):\n",
    "        xavg += wm[i] * math.cos(sigmas[2,i])\n",
    "        yavg += wm[i] * math.sin(sigmas[2,i])\n",
    "  \n",
    "    mu[2] = normalize_angle(np.arctan2(xavg,yavg))\n",
    "\n",
    "    # Compute sigma\n",
    "\n",
    "    for i in range(2*n+1):\n",
    "        dif = np.absolute(sigmas[:,i,np.newaxis]-mu)\n",
    "        newsigma += wc[i]*np.matmul(dif,dif.T)\n",
    "\n",
    "\n",
    "    # Add motion noise\n",
    "\n",
    "    motionNoise = 0.1 \n",
    "    R3 = np.identity(3)*motionNoise\n",
    "    newsigma += R3\n",
    "\n",
    "    return mu,newsigma"
   ]
  },
  {
   "cell_type": "markdown",
   "metadata": {
    "id": "J0wRIRzpvrsW"
   },
   "source": [
    "# Prediction step\n",
    "\n",
    "|                 |  EKF  |   UKF  |\n",
    "|:---------------:|:-----:|:------|\n",
    "| **PREDICTION**  |   $\\mu$ = $g(u_t,u_{t-1})$ from motion model |  $Y^{[i]}= g(X^{[i]})$  $\\mu_t$ = $\\sum_{i=0}^{2n}Y^{[i]}w^{[i]}_m$  |\n",
    "|   **STEP**      | $\\sum_t $=$ G_t\\sum_{t-1}G^T_t+R_t$ | $\\sum_t$ = $ \\sum_{i=0}^{2n}(Y^{[i]}-\\mu')(Y^{[i]}-\\mu')^T+ Q$ propagation of motion |\n",
    "\n",
    "The update is performed in the measurement space, so the transformation function $g$ that we're applying to the sigma points is the one that converts them to the measurement space.\n",
    "Here, we are using again the odometry motion model for that.\n",
    "\n",
    "Afterwards, we use the unscented transform to compute the mean and covariance of these points.\n",
    "\n",
    "$R_t$ is added to the covariance in order to model the additional prediction noise uncertainty, which is assumed to be additive.\n",
    "\n"
   ]
  },
  {
   "cell_type": "code",
   "execution_count": 5,
   "metadata": {
    "id": "T_cx07oQHRwl"
   },
   "outputs": [],
   "source": [
    "def prediction_step(mu,sigma,u):\n",
    "    ''' Updates the belief of the robot pose according to the motion model.\n",
    "    '''\n",
    "    n = mu.shape[0]\n",
    "    # Unscented parameters\n",
    "    alpha = 0.9\n",
    "    beta = 2\n",
    "    kappa = 1\n",
    "    lmbda = alpha**2*(n+kappa)-n\n",
    "\n",
    "    # Compute the gaussian sigma points\n",
    "    sigma_points, wm, wc = compute_sigma_points(mu,sigma,lmbda,alpha,beta)\n",
    "\n",
    "    # Transform sigma points according to odometry motion model\n",
    "    for i in range(sigma_points.shape[1]):\n",
    "        sigma_points[:,i,np.newaxis] = sigma_points[:,i,np.newaxis] + np.array([[u['t'].iloc[0]*np.cos(u['r1'].iloc[0]+sigma_points[2,i])],\n",
    "                                                                            [u['t'].iloc[0]*np.sin(u['r1'].iloc[0]+sigma_points[2,i])],\n",
    "                                                                            [u['r1'].iloc[0]+u['r2'].iloc[0]]])\n",
    "        sigma_points[2,i] = normalize_angle(sigma_points[2,i])\n",
    "\n",
    "    # Recover mu and sigma\n",
    "\n",
    "    newmu,newsigma = recover_gaussian(sigma_points,wm.flatten(),wc.flatten())\n",
    "\n",
    "    return newmu,newsigma"
   ]
  },
  {
   "cell_type": "markdown",
   "metadata": {
    "id": "4B_gkNGevsc3"
   },
   "source": [
    "# Correction step\n",
    "\n",
    "We will compute a new set of sigma points from the gaussian we predicten in the previous step. This way, the sigma point set $\\overline{X}_t$ captures the uncertainty after the prediction step.\n",
    "\n",
    "Each landmark measurement (in this case, in form of range and bearing) is incorporated to the state vector from the prediction, and subsequently, its uncertainties are added to the covariance matrix.\n",
    "\n",
    "Then, a predicted observation, that is, the predicted landmark position, is computed for each sigma point:\n",
    "\\begin{equation}\n",
    "\\overline{Z_t} = h(\\overline{X}_t)\n",
    "\\end{equation}\n",
    "\n",
    "These resulting observations are used to compute the predicted observation $\\overline{z}_t$ and its uncertainty $S_t$.\n"
   ]
  },
  {
   "cell_type": "code",
   "execution_count": 6,
   "metadata": {
    "id": "KptE1btemJND"
   },
   "outputs": [],
   "source": [
    "def correction_step(mu,sigma,z,env_map):\n",
    "    ''' Updates the belief, i. e., mu and sigma after observing landmarks, and augments\n",
    "    the env_map after observing landmarks.\n",
    "    The sensor model measures range and bearing of landmark.\n",
    "    Each observation z has an id of the landmark, range and bearing.\n",
    "    The env_map contains al the landmarks observed so far y the order of observation.\n",
    "    '''\n",
    "    n = mu.shape[0]\n",
    "\n",
    "    # Unscented parameters\n",
    "    alpha = 0.9\n",
    "    beta = 2\n",
    "    kappa = 1\n",
    "    lmbda = alpha**2*(n+kappa)-n\n",
    "\n",
    "    # Number of measurements in this time step\n",
    "    m = z.shape[0]\n",
    "\n",
    "    # Construct the sensor noise matrix Q\n",
    "    Q = 0.01*np.identity(2)\n",
    "\n",
    "    for i,row in z.iterrows():\n",
    "        # Get the id of the landmark corresponding to the i-th observation\n",
    "        landmarkId = int(row['r1']) # r1 == ID here\n",
    "\n",
    "        # If the landmark is obeserved for the first time:\n",
    "        if not landmarkId in env_map: # look for values of id in env_map list\n",
    "            env_map.append(landmarkId)\n",
    "        \n",
    "            # Append the measurement to the state vector (t->range, r2->bearing)  \n",
    "            mu = np.concatenate((mu,np.array([[row['t']],[row['r2']]])), axis = 0)\n",
    "            # Initialize its uncertainty and add it to sigma\n",
    "            sigma = scipy.linalg.block_diag(sigma,Q)\n",
    "            # Sample signa points for this new state vector\n",
    "            sigma_points, wm, wc = compute_sigma_points(mu,sigma,lmbda,alpha,beta)\n",
    "            for i in range(sigma_points.shape[1]):\n",
    "                sigma_points[2,i] = normalize_angle(sigma_points[2,i]) # normalize angles\n",
    "            # Compute the xy location of the landmark according to each sigma point\n",
    "            ldX = sigma_points\n",
    "\n",
    "\n",
    "\n",
    "\n",
    "\n",
    "\n",
    "\n",
    "\n",
    "        # Initialize its pose in mu based on the measurement and the current robot pose:\n",
    "        a = float(row['t']*np.cos(row['r2']+mu[2]))\n",
    "        b = float(row['t']*np.sin(row['r2']+mu[2]))\n",
    "        mu[2*env_map+1 : 2*env_map+3] = mu[0:2] + np.array([[a], [b]])\n",
    "       \n",
    "        # Indicate in the observedLandmarks vector that this landmark has been observed\n",
    "        observedLandmarks[0][landmarkId-1] = 1 \n",
    "\n",
    "    return mu,sigma,env_map\n"
   ]
  },
  {
   "cell_type": "markdown",
   "metadata": {
    "id": "dUKXbTD2v6c1"
   },
   "source": []
  },
  {
   "cell_type": "markdown",
   "metadata": {
    "id": "14OHRtlCpuBH"
   },
   "source": [
    "## Auxiliar functions\n",
    "\n",
    "Functions for reading data from the attached files"
   ]
  },
  {
   "cell_type": "code",
   "execution_count": 7,
   "metadata": {
    "id": "D6qZZN4-pww4"
   },
   "outputs": [],
   "source": [
    "def read_data(filename,path):\n",
    "    data = pd.read_csv(path + filename,delimiter = ' ',header=None, names = ['sensor','r1','t','r2']) # or id, range and bearing for sensor\n",
    "    return (data)\n",
    "\n",
    "def read_world(filename,path):\n",
    "    landmarks = pd.read_csv(path+filename,delimiter = ' ',header=None, names = ['x','y'])\n",
    "    return (np.asarray(landmarks))"
   ]
  },
  {
   "cell_type": "markdown",
   "metadata": {},
   "source": [
    "Functions for plotting"
   ]
  },
  {
   "cell_type": "code",
   "execution_count": 8,
   "metadata": {},
   "outputs": [],
   "source": [
    "def world_plot(landmarks, fig, ax):\n",
    "    ''' Draw the world grid with the ground truth landmarks'''\n",
    "    ax.set_xticks([x for x in range(-2,12)],minor=True )\n",
    "    ax.set_yticks([y for y in range(-2,12)],minor=True)\n",
    "    # Plot grid on minor axes in gray (width = 1)\n",
    "    plt.grid(which='minor',ls='-',lw=1, color='white')\n",
    "    # Plot grid on major axes in larger width\n",
    "    plt.grid(which='major',ls='-',lw=2, color='white')\n",
    "    # Draw the ground truth of the landmarks\n",
    "    for i,l in enumerate(landmarks):\n",
    "        ax.text(l[0], l[1], 'x', ha='center', va='center', color='black', fontsize=20)\n",
    "        #if (observedLandmarks[0][i] == 1.0):\n",
    "            # plot landmark ellipse\n",
    "            #e = plot_conf_ellipse(mu[2*i+3:2*i+5],sigma[2*i+3:2*i+5,2*i+3:2*i+5], 0.6, 'blue')\n",
    "            #ax.add_patch(e)\n",
    "\n",
    "    return fig,ax\n",
    "\n",
    "def robot_plot(mu,sigma,fig,ax):\n",
    "    ''' takes fig with a world plot, draws a robot in it'''\n",
    "    # Draw the robot\n",
    "    ax.text(mu[0], mu[1], 'o', ha='center', va='center', color='black', fontsize=20)\n",
    "    e = plot_conf_ellipse(mu[0:3],sigma[0:3,0:3], 0.6, 'red')\n",
    "    print(e)\n",
    "    ax.add_patch(e)\n",
    "    return fig,ax"
   ]
  },
  {
   "cell_type": "code",
   "execution_count": 9,
   "metadata": {},
   "outputs": [],
   "source": [
    "from scipy.stats.distributions import chi2\n",
    "def plot_conf_ellipse(x,C,alpha,color):\n",
    "    # Calculate unscaled half axes\n",
    "    sxx = C[0,0] \n",
    "    syy = C[1,1] \n",
    "    sxy = C[0,1]\n",
    "\n",
    "    # Remove imaginary parts in case of neg. definite C\n",
    "    a = np.sqrt(0.5*(sxx+syy+np.sqrt((sxx-syy)**2+4*sxy**2))).real   # always greater\n",
    "    b = np.sqrt(0.5*(sxx+syy-np.sqrt((sxx-syy)**2+4*sxy**2))).real   # always smaller\n",
    "\n",
    "    \n",
    "    # Scaling in order to reflect specified probability    \n",
    "    a = a*np.sqrt(chi2.ppf(alpha, df=2))\n",
    "    b = b*np.sqrt(chi2.ppf(alpha, df=2))\n",
    "    \n",
    "    # Calculate inclination (numerically stable)\n",
    "    if math.isclose(sxx, syy, rel_tol=0.1): # this function launches a warning\n",
    "        angle =  0.5*np.arctan(2*sxy/(sxx-syy)) if (sxx-syy) != 0 else 0\n",
    "    elif (sxy==0):\n",
    "        print(2)\n",
    "        angle = 0\n",
    "    elif (sxy>0):\n",
    "        print(3)\n",
    "        angle = np.pi/4\n",
    "    elif (sxy<0):\n",
    "        print(4)\n",
    "        angle = -np.pi/4\n",
    "\n",
    "    return Ellipse((x[0],x[1]), a, b, angle, edgecolor = color, facecolor = color, alpha = alpha)"
   ]
  },
  {
   "cell_type": "code",
   "execution_count": 11,
   "metadata": {},
   "outputs": [
    {
     "ename": "NameError",
     "evalue": "name 'landmarks' is not defined",
     "output_type": "error",
     "traceback": [
      "\u001b[0;31m---------------------------------------------------------------------------\u001b[0m",
      "\u001b[0;31mNameError\u001b[0m                                 Traceback (most recent call last)",
      "\u001b[0;32m<ipython-input-11-cf432ca74cc5>\u001b[0m in \u001b[0;36m<module>\u001b[0;34m\u001b[0m\n\u001b[1;32m      1\u001b[0m \u001b[0mfig\u001b[0m\u001b[0;34m,\u001b[0m\u001b[0max\u001b[0m \u001b[0;34m=\u001b[0m  \u001b[0mplt\u001b[0m\u001b[0;34m.\u001b[0m\u001b[0msubplots\u001b[0m\u001b[0;34m(\u001b[0m\u001b[0;34m)\u001b[0m\u001b[0;34m\u001b[0m\u001b[0;34m\u001b[0m\u001b[0m\n\u001b[0;32m----> 2\u001b[0;31m \u001b[0mfig\u001b[0m\u001b[0;34m,\u001b[0m\u001b[0max\u001b[0m \u001b[0;34m=\u001b[0m \u001b[0mworld_plot\u001b[0m\u001b[0;34m(\u001b[0m\u001b[0mlandmarks\u001b[0m\u001b[0;34m,\u001b[0m\u001b[0mfig\u001b[0m\u001b[0;34m,\u001b[0m\u001b[0max\u001b[0m\u001b[0;34m)\u001b[0m\u001b[0;34m\u001b[0m\u001b[0;34m\u001b[0m\u001b[0m\n\u001b[0m\u001b[1;32m      3\u001b[0m \u001b[0mfig\u001b[0m\u001b[0;34m,\u001b[0m\u001b[0max\u001b[0m \u001b[0;34m=\u001b[0m \u001b[0mrobot_plot\u001b[0m\u001b[0;34m(\u001b[0m\u001b[0mmu\u001b[0m\u001b[0;34m,\u001b[0m\u001b[0msigma\u001b[0m\u001b[0;34m,\u001b[0m\u001b[0mfig\u001b[0m\u001b[0;34m,\u001b[0m\u001b[0max\u001b[0m\u001b[0;34m)\u001b[0m\u001b[0;34m\u001b[0m\u001b[0;34m\u001b[0m\u001b[0m\n",
      "\u001b[0;31mNameError\u001b[0m: name 'landmarks' is not defined"
     ]
    },
    {
     "data": {
      "image/png": "[encoded data removed]",
      "text/plain": [
       "<Figure size 432x288 with 1 Axes>"
      ]
     },
     "metadata": {
      "needs_background": "light"
     },
     "output_type": "display_data"
    }
   ],
   "source": [
    "fig,ax =  plt.subplots()\n",
    "fig,ax = world_plot(landmarks,fig,ax)\n",
    "fig,ax = robot_plot(mu,sigma,fig,ax)"
   ]
  },
  {
   "cell_type": "markdown",
   "metadata": {
    "id": "cMgH1JrJsC7V"
   },
   "source": [
    "Add a column with the index of the timestep for each sensor read"
   ]
  },
  {
   "cell_type": "code",
   "execution_count": 12,
   "metadata": {
    "colab": {
     "base_uri": "https://localhost:8080/",
     "height": 424
    },
    "id": "t5W6ZOrBp-GO",
    "outputId": "60248fc0-be7f-40ab-d855-f6b85bbca69d"
   },
   "outputs": [
    {
     "data": {
      "text/html": [
       "<div>\n",
       "<style scoped>\n",
       "    .dataframe tbody tr th:only-of-type {\n",
       "        vertical-align: middle;\n",
       "    }\n",
       "\n",
       "    .dataframe tbody tr th {\n",
       "        vertical-align: top;\n",
       "    }\n",
       "\n",
       "    .dataframe thead th {\n",
       "        text-align: right;\n",
       "    }\n",
       "</style>\n",
       "<table border=\"1\" class=\"dataframe\">\n",
       "  <thead>\n",
       "    <tr style=\"text-align: right;\">\n",
       "      <th></th>\n",
       "      <th>timestep</th>\n",
       "      <th>sensor</th>\n",
       "      <th>r1</th>\n",
       "      <th>t</th>\n",
       "      <th>r2</th>\n",
       "    </tr>\n",
       "  </thead>\n",
       "  <tbody>\n",
       "    <tr>\n",
       "      <th>0</th>\n",
       "      <td>0</td>\n",
       "      <td>ODOMETRY</td>\n",
       "      <td>0.100692</td>\n",
       "      <td>0.100073</td>\n",
       "      <td>0.000171</td>\n",
       "    </tr>\n",
       "    <tr>\n",
       "      <th>1</th>\n",
       "      <td>0</td>\n",
       "      <td>SENSOR</td>\n",
       "      <td>1.000000</td>\n",
       "      <td>1.896454</td>\n",
       "      <td>0.374032</td>\n",
       "    </tr>\n",
       "    <tr>\n",
       "      <th>2</th>\n",
       "      <td>0</td>\n",
       "      <td>SENSOR</td>\n",
       "      <td>2.000000</td>\n",
       "      <td>3.853678</td>\n",
       "      <td>1.519510</td>\n",
       "    </tr>\n",
       "    <tr>\n",
       "      <th>3</th>\n",
       "      <td>1</td>\n",
       "      <td>ODOMETRY</td>\n",
       "      <td>0.099366</td>\n",
       "      <td>0.099968</td>\n",
       "      <td>-0.000241</td>\n",
       "    </tr>\n",
       "    <tr>\n",
       "      <th>4</th>\n",
       "      <td>1</td>\n",
       "      <td>SENSOR</td>\n",
       "      <td>1.000000</td>\n",
       "      <td>1.839227</td>\n",
       "      <td>0.248026</td>\n",
       "    </tr>\n",
       "    <tr>\n",
       "      <th>...</th>\n",
       "      <td>...</td>\n",
       "      <td>...</td>\n",
       "      <td>...</td>\n",
       "      <td>...</td>\n",
       "      <td>...</td>\n",
       "    </tr>\n",
       "    <tr>\n",
       "      <th>1538</th>\n",
       "      <td>330</td>\n",
       "      <td>SENSOR</td>\n",
       "      <td>5.000000</td>\n",
       "      <td>4.951031</td>\n",
       "      <td>-1.512977</td>\n",
       "    </tr>\n",
       "    <tr>\n",
       "      <th>1539</th>\n",
       "      <td>330</td>\n",
       "      <td>SENSOR</td>\n",
       "      <td>6.000000</td>\n",
       "      <td>4.917189</td>\n",
       "      <td>-0.862938</td>\n",
       "    </tr>\n",
       "    <tr>\n",
       "      <th>1540</th>\n",
       "      <td>330</td>\n",
       "      <td>SENSOR</td>\n",
       "      <td>7.000000</td>\n",
       "      <td>-0.035066</td>\n",
       "      <td>0.975887</td>\n",
       "    </tr>\n",
       "    <tr>\n",
       "      <th>1541</th>\n",
       "      <td>330</td>\n",
       "      <td>SENSOR</td>\n",
       "      <td>8.000000</td>\n",
       "      <td>1.900675</td>\n",
       "      <td>3.144946</td>\n",
       "    </tr>\n",
       "    <tr>\n",
       "      <th>1542</th>\n",
       "      <td>330</td>\n",
       "      <td>SENSOR</td>\n",
       "      <td>9.000000</td>\n",
       "      <td>4.171552</td>\n",
       "      <td>0.072790</td>\n",
       "    </tr>\n",
       "  </tbody>\n",
       "</table>\n",
       "<p>1543 rows × 5 columns</p>\n",
       "</div>"
      ],
      "text/plain": [
       "      timestep    sensor        r1         t        r2\n",
       "0            0  ODOMETRY  0.100692  0.100073  0.000171\n",
       "1            0    SENSOR  1.000000  1.896454  0.374032\n",
       "2            0    SENSOR  2.000000  3.853678  1.519510\n",
       "3            1  ODOMETRY  0.099366  0.099968 -0.000241\n",
       "4            1    SENSOR  1.000000  1.839227  0.248026\n",
       "...        ...       ...       ...       ...       ...\n",
       "1538       330    SENSOR  5.000000  4.951031 -1.512977\n",
       "1539       330    SENSOR  6.000000  4.917189 -0.862938\n",
       "1540       330    SENSOR  7.000000 -0.035066  0.975887\n",
       "1541       330    SENSOR  8.000000  1.900675  3.144946\n",
       "1542       330    SENSOR  9.000000  4.171552  0.072790\n",
       "\n",
       "[1543 rows x 5 columns]"
      ]
     },
     "execution_count": 12,
     "metadata": {},
     "output_type": "execute_result"
    }
   ],
   "source": [
    "data = read_data('ukf_sensor_data.dat',os.getcwd()+'/data/')\n",
    "indexodometry = data[ (data['sensor'] == 'ODOMETRY')].index\n",
    "timestepindex = []\n",
    "timestep = 0\n",
    "for i in range (0,data.shape[0]):\n",
    "    if(timestep+1 < indexodometry.shape[0]):\n",
    "        if (i < indexodometry[timestep+1]) :\n",
    "            timestepindex.append(timestep)\n",
    "        else:\n",
    "            timestep +=1\n",
    "            timestepindex.append(timestep)\n",
    "    else:\n",
    "        timestepindex.append(timestep)\n",
    "\n",
    "data.insert(0, \"timestep\", timestepindex, True)\n",
    "data"
   ]
  },
  {
   "cell_type": "code",
   "execution_count": 13,
   "metadata": {
    "colab": {
     "base_uri": "https://localhost:8080/"
    },
    "id": "3AgRSa2HuHk6",
    "outputId": "0fa9f18e-3933-45e3-cd19-451e1ce4e8fb"
   },
   "outputs": [
    {
     "data": {
      "text/plain": [
       "array([[ 2,  1],\n",
       "       [ 0,  4],\n",
       "       [ 2,  7],\n",
       "       [ 9,  2],\n",
       "       [10,  5],\n",
       "       [ 9,  8],\n",
       "       [ 5,  5],\n",
       "       [ 5,  3],\n",
       "       [ 5,  9]])"
      ]
     },
     "execution_count": 13,
     "metadata": {},
     "output_type": "execute_result"
    }
   ],
   "source": [
    "landmarks = read_world('ukf_world.dat',os.getcwd()+'/data/')\n",
    "landmarks"
   ]
  },
  {
   "cell_type": "markdown",
   "metadata": {
    "id": "TRBUs_LOuhLD"
   },
   "source": [
    "Initialize the belief"
   ]
  },
  {
   "cell_type": "code",
   "execution_count": 14,
   "metadata": {
    "id": "FyeZ4t7Hujgz"
   },
   "outputs": [],
   "source": [
    "mu = np.zeros((3,1))\n",
    "sigma = np.identity((3))*0.1"
   ]
  },
  {
   "cell_type": "markdown",
   "metadata": {
    "id": "dPZ6CzFXvGvk"
   },
   "source": [
    "Execute the loop"
   ]
  },
  {
   "cell_type": "code",
   "execution_count": 15,
   "metadata": {
    "id": "wbANbMSrvIpd"
   },
   "outputs": [],
   "source": [
    "def ukf_loop(mu, sigma,sensor_data, env_map):\n",
    "    for t in range (0, 10):#timestepindex[-1]):\n",
    "        # Perform the prediction step of the UKF\n",
    "        mu, sigma = prediction_step(mu,sigma,sensor_data.loc[(sensor_data['timestep'] == t) & (sensor_data['sensor'] == 'ODOMETRY')])\n",
    "        mu,sigma = correction_step(mu,sigma,data.loc[(data['timestep'] == t) & (data['sensor'] == 'SENSOR')],env_map)\n",
    "  \n",
    "    return mu,sigma"
   ]
  },
  {
   "cell_type": "code",
   "execution_count": 16,
   "metadata": {
    "colab": {
     "base_uri": "https://localhost:8080/"
    },
    "id": "iuGzZqTVpTTD",
    "outputId": "cf3f3345-b75f-48d5-b79b-daeaab5af118"
   },
   "outputs": [
    {
     "ename": "TypeError",
     "evalue": "can only concatenate list (not \"int\") to list",
     "output_type": "error",
     "traceback": [
      "\u001b[0;31m---------------------------------------------------------------------------\u001b[0m",
      "\u001b[0;31mTypeError\u001b[0m                                 Traceback (most recent call last)",
      "\u001b[0;32m<ipython-input-16-e6ec153c85a9>\u001b[0m in \u001b[0;36m<module>\u001b[0;34m\u001b[0m\n\u001b[1;32m      3\u001b[0m \u001b[0menv_map\u001b[0m \u001b[0;34m=\u001b[0m \u001b[0;34m[\u001b[0m\u001b[0;34m]\u001b[0m\u001b[0;34m\u001b[0m\u001b[0;34m\u001b[0m\u001b[0m\n\u001b[1;32m      4\u001b[0m \u001b[0;34m\u001b[0m\u001b[0m\n\u001b[0;32m----> 5\u001b[0;31m \u001b[0mmu\u001b[0m\u001b[0;34m,\u001b[0m\u001b[0msigma\u001b[0m \u001b[0;34m=\u001b[0m \u001b[0mukf_loop\u001b[0m\u001b[0;34m(\u001b[0m\u001b[0mmu\u001b[0m\u001b[0;34m,\u001b[0m\u001b[0msigma\u001b[0m\u001b[0;34m,\u001b[0m\u001b[0mdata\u001b[0m\u001b[0;34m,\u001b[0m \u001b[0menv_map\u001b[0m\u001b[0;34m)\u001b[0m\u001b[0;34m\u001b[0m\u001b[0;34m\u001b[0m\u001b[0m\n\u001b[0m",
      "\u001b[0;32m<ipython-input-15-ba4103f6f325>\u001b[0m in \u001b[0;36mukf_loop\u001b[0;34m(mu, sigma, sensor_data, env_map)\u001b[0m\n\u001b[1;32m      3\u001b[0m         \u001b[0;31m# Perform the prediction step of the UKF\u001b[0m\u001b[0;34m\u001b[0m\u001b[0;34m\u001b[0m\u001b[0;34m\u001b[0m\u001b[0m\n\u001b[1;32m      4\u001b[0m         \u001b[0mmu\u001b[0m\u001b[0;34m,\u001b[0m \u001b[0msigma\u001b[0m \u001b[0;34m=\u001b[0m \u001b[0mprediction_step\u001b[0m\u001b[0;34m(\u001b[0m\u001b[0mmu\u001b[0m\u001b[0;34m,\u001b[0m\u001b[0msigma\u001b[0m\u001b[0;34m,\u001b[0m\u001b[0msensor_data\u001b[0m\u001b[0;34m.\u001b[0m\u001b[0mloc\u001b[0m\u001b[0;34m[\u001b[0m\u001b[0;34m(\u001b[0m\u001b[0msensor_data\u001b[0m\u001b[0;34m[\u001b[0m\u001b[0;34m'timestep'\u001b[0m\u001b[0;34m]\u001b[0m \u001b[0;34m==\u001b[0m \u001b[0mt\u001b[0m\u001b[0;34m)\u001b[0m \u001b[0;34m&\u001b[0m \u001b[0;34m(\u001b[0m\u001b[0msensor_data\u001b[0m\u001b[0;34m[\u001b[0m\u001b[0;34m'sensor'\u001b[0m\u001b[0;34m]\u001b[0m \u001b[0;34m==\u001b[0m \u001b[0;34m'ODOMETRY'\u001b[0m\u001b[0;34m)\u001b[0m\u001b[0;34m]\u001b[0m\u001b[0;34m)\u001b[0m\u001b[0;34m\u001b[0m\u001b[0;34m\u001b[0m\u001b[0m\n\u001b[0;32m----> 5\u001b[0;31m         \u001b[0mmu\u001b[0m\u001b[0;34m,\u001b[0m\u001b[0msigma\u001b[0m \u001b[0;34m=\u001b[0m \u001b[0mcorrection_step\u001b[0m\u001b[0;34m(\u001b[0m\u001b[0mmu\u001b[0m\u001b[0;34m,\u001b[0m\u001b[0msigma\u001b[0m\u001b[0;34m,\u001b[0m\u001b[0mdata\u001b[0m\u001b[0;34m.\u001b[0m\u001b[0mloc\u001b[0m\u001b[0;34m[\u001b[0m\u001b[0;34m(\u001b[0m\u001b[0mdata\u001b[0m\u001b[0;34m[\u001b[0m\u001b[0;34m'timestep'\u001b[0m\u001b[0;34m]\u001b[0m \u001b[0;34m==\u001b[0m \u001b[0mt\u001b[0m\u001b[0;34m)\u001b[0m \u001b[0;34m&\u001b[0m \u001b[0;34m(\u001b[0m\u001b[0mdata\u001b[0m\u001b[0;34m[\u001b[0m\u001b[0;34m'sensor'\u001b[0m\u001b[0;34m]\u001b[0m \u001b[0;34m==\u001b[0m \u001b[0;34m'SENSOR'\u001b[0m\u001b[0;34m)\u001b[0m\u001b[0;34m]\u001b[0m\u001b[0;34m,\u001b[0m\u001b[0menv_map\u001b[0m\u001b[0;34m)\u001b[0m\u001b[0;34m\u001b[0m\u001b[0;34m\u001b[0m\u001b[0m\n\u001b[0m\u001b[1;32m      6\u001b[0m \u001b[0;34m\u001b[0m\u001b[0m\n\u001b[1;32m      7\u001b[0m     \u001b[0;32mreturn\u001b[0m \u001b[0mmu\u001b[0m\u001b[0;34m,\u001b[0m\u001b[0msigma\u001b[0m\u001b[0;34m\u001b[0m\u001b[0;34m\u001b[0m\u001b[0m\n",
      "\u001b[0;32m<ipython-input-6-de652d1e850d>\u001b[0m in \u001b[0;36mcorrection_step\u001b[0;34m(mu, sigma, z, env_map)\u001b[0m\n\u001b[1;32m     47\u001b[0m         \u001b[0ma\u001b[0m \u001b[0;34m=\u001b[0m \u001b[0mfloat\u001b[0m\u001b[0;34m(\u001b[0m\u001b[0mrow\u001b[0m\u001b[0;34m[\u001b[0m\u001b[0;34m't'\u001b[0m\u001b[0;34m]\u001b[0m\u001b[0;34m*\u001b[0m\u001b[0mnp\u001b[0m\u001b[0;34m.\u001b[0m\u001b[0mcos\u001b[0m\u001b[0;34m(\u001b[0m\u001b[0mrow\u001b[0m\u001b[0;34m[\u001b[0m\u001b[0;34m'r2'\u001b[0m\u001b[0;34m]\u001b[0m\u001b[0;34m+\u001b[0m\u001b[0mmu\u001b[0m\u001b[0;34m[\u001b[0m\u001b[0;36m2\u001b[0m\u001b[0;34m]\u001b[0m\u001b[0;34m)\u001b[0m\u001b[0;34m)\u001b[0m\u001b[0;34m\u001b[0m\u001b[0;34m\u001b[0m\u001b[0m\n\u001b[1;32m     48\u001b[0m         \u001b[0mb\u001b[0m \u001b[0;34m=\u001b[0m \u001b[0mfloat\u001b[0m\u001b[0;34m(\u001b[0m\u001b[0mrow\u001b[0m\u001b[0;34m[\u001b[0m\u001b[0;34m't'\u001b[0m\u001b[0;34m]\u001b[0m\u001b[0;34m*\u001b[0m\u001b[0mnp\u001b[0m\u001b[0;34m.\u001b[0m\u001b[0msin\u001b[0m\u001b[0;34m(\u001b[0m\u001b[0mrow\u001b[0m\u001b[0;34m[\u001b[0m\u001b[0;34m'r2'\u001b[0m\u001b[0;34m]\u001b[0m\u001b[0;34m+\u001b[0m\u001b[0mmu\u001b[0m\u001b[0;34m[\u001b[0m\u001b[0;36m2\u001b[0m\u001b[0;34m]\u001b[0m\u001b[0;34m)\u001b[0m\u001b[0;34m)\u001b[0m\u001b[0;34m\u001b[0m\u001b[0;34m\u001b[0m\u001b[0m\n\u001b[0;32m---> 49\u001b[0;31m         \u001b[0mmu\u001b[0m\u001b[0;34m[\u001b[0m\u001b[0;36m2\u001b[0m\u001b[0;34m*\u001b[0m\u001b[0menv_map\u001b[0m\u001b[0;34m+\u001b[0m\u001b[0;36m1\u001b[0m \u001b[0;34m:\u001b[0m \u001b[0;36m2\u001b[0m\u001b[0;34m*\u001b[0m\u001b[0menv_map\u001b[0m\u001b[0;34m+\u001b[0m\u001b[0;36m3\u001b[0m\u001b[0;34m]\u001b[0m \u001b[0;34m=\u001b[0m \u001b[0mmu\u001b[0m\u001b[0;34m[\u001b[0m\u001b[0;36m0\u001b[0m\u001b[0;34m:\u001b[0m\u001b[0;36m2\u001b[0m\u001b[0;34m]\u001b[0m \u001b[0;34m+\u001b[0m \u001b[0mnp\u001b[0m\u001b[0;34m.\u001b[0m\u001b[0marray\u001b[0m\u001b[0;34m(\u001b[0m\u001b[0;34m[\u001b[0m\u001b[0;34m[\u001b[0m\u001b[0ma\u001b[0m\u001b[0;34m]\u001b[0m\u001b[0;34m,\u001b[0m \u001b[0;34m[\u001b[0m\u001b[0mb\u001b[0m\u001b[0;34m]\u001b[0m\u001b[0;34m]\u001b[0m\u001b[0;34m)\u001b[0m\u001b[0;34m\u001b[0m\u001b[0;34m\u001b[0m\u001b[0m\n\u001b[0m\u001b[1;32m     50\u001b[0m \u001b[0;34m\u001b[0m\u001b[0m\n\u001b[1;32m     51\u001b[0m         \u001b[0;31m# Indicate in the observedLandmarks vector that this landmark has been observed\u001b[0m\u001b[0;34m\u001b[0m\u001b[0;34m\u001b[0m\u001b[0;34m\u001b[0m\u001b[0m\n",
      "\u001b[0;31mTypeError\u001b[0m: can only concatenate list (not \"int\") to list"
     ]
    }
   ],
   "source": [
    "mu = np.zeros((3,1))\n",
    "sigma = np.identity((3))*0.001\n",
    "env_map = []\n",
    "\n",
    "mu,sigma = ukf_loop(mu,sigma,data, env_map)"
   ]
  },
  {
   "cell_type": "code",
   "execution_count": null,
   "metadata": {},
   "outputs": [],
   "source": []
  },
  {
   "cell_type": "code",
   "execution_count": null,
   "metadata": {},
   "outputs": [],
   "source": []
  },
  {
   "cell_type": "code",
   "execution_count": null,
   "metadata": {},
   "outputs": [],
   "source": []
  }
 ],
 "metadata": {
  "colab": {
   "name": "UKF.ipynb",
   "provenance": []
  },
  "kernelspec": {
   "display_name": "Python 3",
   "language": "python",
   "name": "python3"
  },
  "language_info": {
   "codemirror_mode": {
    "name": "ipython",
    "version": 3
   },
   "file_extension": ".py",
   "mimetype": "text/x-python",
   "name": "python",
   "nbconvert_exporter": "python",
   "pygments_lexer": "ipython3",
   "version": "3.6.9"
  }
 },
 "nbformat": 4,
 "nbformat_minor": 1
}
